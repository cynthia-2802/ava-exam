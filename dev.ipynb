{
 "cells": [
  {
   "cell_type": "code",
   "execution_count": 2,
   "metadata": {},
   "outputs": [],
   "source": [
    "import pandas as pd\n",
    "import xlrd\n",
    "import os"
   ]
  },
  {
   "cell_type": "markdown",
   "metadata": {},
   "source": [
    "# Preprocess data, combine data and write to parquet"
   ]
  },
  {
   "cell_type": "code",
   "execution_count": null,
   "metadata": {},
   "outputs": [],
   "source": [
    "groupage_data_path = \"data/raw/dds/Groupage/\"\n",
    "groupage_data = pd.DataFrame()\n",
    "for file_name in os.listdir(groupage_data_path):\n",
    "    file_path = f\"{groupage_data_path}{file_name}\"\n",
    "    workbook = xlrd.open_workbook(file_path, logfile=open(os.devnull, \"w\"))\n",
    "    data = pd.read_excel(workbook)\n",
    "    groupage_data = pd.concat([groupage_data, data])\n",
    "\n",
    "groupage_data.to_parquet(\"data/processed/groupage_data.parquet\")"
   ]
  },
  {
   "cell_type": "code",
   "execution_count": 19,
   "metadata": {},
   "outputs": [
    {
     "data": {
      "text/plain": [
       "(131376, 25)"
      ]
     },
     "execution_count": 19,
     "metadata": {},
     "output_type": "execute_result"
    }
   ],
   "source": [
    "groupage_data.shape"
   ]
  },
  {
   "cell_type": "code",
   "execution_count": null,
   "metadata": {},
   "outputs": [],
   "source": [
    "innight_data_path = \"data/raw/dds/Innight/\"\n",
    "innight_data = pd.DataFrame()\n",
    "for file_name in os.listdir(innight_data_path):\n",
    "    file_path = f\"{innight_data_path}{file_name}\"\n",
    "    workbook = xlrd.open_workbook(file_path, logfile=open(os.devnull, \"w\"))\n",
    "    data = pd.read_excel(workbook)\n",
    "    innight_data = pd.concat([innight_data, data])\n",
    "\n",
    "innight_data.to_parquet(\"data/processed/innight_data.parquet\")"
   ]
  },
  {
   "cell_type": "code",
   "execution_count": null,
   "metadata": {},
   "outputs": [],
   "source": [
    "pallet_data_path = \"data/raw/dds/Pallet/\"\n",
    "pallet_data = pd.DataFrame()\n",
    "for file_name in os.listdir(pallet_data_path):\n",
    "    file_path = f\"{pallet_data_path}{file_name}\"\n",
    "    workbook = xlrd.open_workbook(file_path, logfile=open(os.devnull, \"w\"))\n",
    "    data = pd.read_excel(workbook)\n",
    "    pallet_data = pd.concat([pallet_data, data])\n",
    "\n",
    "pallet_data.to_parquet(\"data/processed/pallet_data.parquet\")"
   ]
  },
  {
   "cell_type": "code",
   "execution_count": null,
   "metadata": {},
   "outputs": [],
   "source": [
    "road_freight_data_path = \"data/raw/dds/Road_Freight/\"\n",
    "road_freight_data = pd.DataFrame()\n",
    "for file_name in os.listdir(road_freight_data_path):\n",
    "    file_path = f\"{road_freight_data_path}{file_name}\"\n",
    "    workbook = xlrd.open_workbook(file_path, logfile=open(os.devnull, \"w\"))\n",
    "    data = pd.read_excel(workbook)\n",
    "    road_freight_data = pd.concat([road_freight_data, data])\n",
    "\n",
    "road_freight_data.to_parquet(\"data/processed/road_freight_data.parquet\")"
   ]
  },
  {
   "cell_type": "code",
   "execution_count": null,
   "metadata": {},
   "outputs": [],
   "source": [
    "customer_data = pd.read_excel(\"data/raw/master-data/ADS_DDS_RF_CustomerNumbers_MasterData.xlsx\")\n",
    "customer_data.to_parquet(\"data/processed/customer_data.parquet\")"
   ]
  },
  {
   "cell_type": "code",
   "execution_count": 24,
   "metadata": {},
   "outputs": [],
   "source": [
    "groupage_data = pd.read_parquet(\"data/processed/groupage_data.parquet\")\n",
    "innight_data = pd.read_parquet(\"data/processed/innight_data.parquet\")\n",
    "pallet_data = pd.read_parquet(\"data/processed/pallet_data.parquet\")\n",
    "road_freight_data = pd.read_parquet(\"data/processed/road_freight_data.parquet\")\n",
    "customer_data = pd.read_parquet(\"data/processed/customer_data.parquet\")"
   ]
  },
  {
   "cell_type": "code",
   "execution_count": 26,
   "metadata": {},
   "outputs": [
    {
     "data": {
      "text/plain": [
       "(1405558, 25)"
      ]
     },
     "execution_count": 26,
     "metadata": {},
     "output_type": "execute_result"
    }
   ],
   "source": [
    "groupage_data.shape"
   ]
  }
 ],
 "metadata": {
  "kernelspec": {
   "display_name": "ava-exam",
   "language": "python",
   "name": "ava-exam"
  },
  "language_info": {
   "codemirror_mode": {
    "name": "ipython",
    "version": 3
   },
   "file_extension": ".py",
   "mimetype": "text/x-python",
   "name": "python",
   "nbconvert_exporter": "python",
   "pygments_lexer": "ipython3",
   "version": "3.12.7"
  }
 },
 "nbformat": 4,
 "nbformat_minor": 2
}
