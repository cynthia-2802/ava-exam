{
 "cells": [
  {
   "cell_type": "code",
   "execution_count": 1,
   "metadata": {},
   "outputs": [],
   "source": [
    "import pandas as pd\n",
    "import xlrd\n",
    "import os\n",
    "import random"
   ]
  },
  {
   "cell_type": "markdown",
   "metadata": {},
   "source": [
    "# Data exploration\n"
   ]
  },
  {
   "cell_type": "code",
   "execution_count": 3,
   "metadata": {},
   "outputs": [
    {
     "name": "stdout",
     "output_type": "stream",
     "text": [
      "32\n",
      "WARNING *** OLE2 inconsistency: SSCS size is 0 but SSAT size is non-zero\n",
      "32\n",
      "WARNING *** OLE2 inconsistency: SSCS size is 0 but SSAT size is non-zero\n",
      "32\n",
      "WARNING *** OLE2 inconsistency: SSCS size is 0 but SSAT size is non-zero\n",
      "4\n",
      "WARNING *** OLE2 inconsistency: SSCS size is 0 but SSAT size is non-zero\n"
     ]
    }
   ],
   "source": [
    "for path in [\n",
    "    \"data-1/raw/dds/Groupage/\",\n",
    "    \"data-1/raw/dds/Innight/\",\n",
    "    \"data-1/raw/dds/Pallet/\",\n",
    "    \"data-1/raw/dds/Road_Freight/\"\n",
    "]:\n",
    "    files = os.listdir(path)\n",
    "    print(len(files))\n",
    "    chosen_file = random.choice(files)\n",
    "    workbook = xlrd.open_workbook(f\"{path}/{chosen_file}\")\n",
    "    data = pd.read_excel(workbook)\n",
    "    # print(data.info())\n"
   ]
  },
  {
   "cell_type": "code",
   "execution_count": 4,
   "metadata": {},
   "outputs": [
    {
     "data": {
      "text/plain": [
       "25"
      ]
     },
     "execution_count": 4,
     "metadata": {},
     "output_type": "execute_result"
    }
   ],
   "source": [
    "len(data.columns)"
   ]
  },
  {
   "cell_type": "markdown",
   "metadata": {},
   "source": [
    "# Preprocess data, combine data and write to parquet"
   ]
  },
  {
   "cell_type": "code",
   "execution_count": null,
   "metadata": {},
   "outputs": [],
   "source": [
    "# Assume data is store in data/raw/\n",
    "def combine_data(data_path, data_name):\n",
    "    data = pd.DataFrame()\n",
    "    for file_name in os.listdir(data_path):\n",
    "        file_path = f\"{data_path}{file_name}\"\n",
    "        workbook = xlrd.open_workbook(file_path, logfile=open(os.devnull, \"w\"))\n",
    "        data = pd.concat([data, pd.read_excel(workbook)])\n",
    "        data.to_parquet(f\"data/raw/{data_name}.parquet\")\n",
    "    \n",
    "    return data\n",
    "\n",
    "groupage_data = combine_data(\"data-1/raw/dds/Groupage/\", \"groupage_data\")\n",
    "innight_data = combine_data(\"data-1/raw/dds/Innight/\", \"innight_data\")\n",
    "pallet_data = combine_data(\"data-1/raw/dds/Pallet/\", \"pallet_data\")\n",
    "road_freight_data = combine_data(\"data-1/raw/dds/Road_Freight/\", \"road_freight_data\")\n",
    "\n",
    "customer_data = pd.read_excel(\"data-1/raw/master-data/ADS_DDS_RF_CustomerNumbers_MasterData.xlsx\")\n",
    "customer_data.to_parquet(\"data-1/raw/customer_data.parquet\")"
   ]
  },
  {
   "cell_type": "code",
   "execution_count": 2,
   "metadata": {},
   "outputs": [],
   "source": [
    "# Load data\n",
    "groupage_data = pd.read_parquet(\"data-1/raw/groupage_data.parquet\")\n",
    "innight_data = pd.read_parquet(\"data-1/raw/innight_data.parquet\")\n",
    "pallet_data = pd.read_parquet(\"data-1/raw/pallet_data.parquet\")\n",
    "road_freight_data = pd.read_parquet(\"data-1/raw/road_freight_data.parquet\")\n",
    "customer_data = pd.read_parquet(\"data-1/raw/customer_data.parquet\")"
   ]
  },
  {
   "cell_type": "code",
   "execution_count": 3,
   "metadata": {},
   "outputs": [
    {
     "data": {
      "text/plain": [
       "Customer_ID                                   9654\n",
       "ConsignorCountryCode                             0\n",
       "Consignor Location Nr                            0\n",
       "ConsigneeCountryCode                             0\n",
       "Consignee Location Nr                            0\n",
       "Freight calc_ status                             0\n",
       "Product                                          0\n",
       "Parcel/Pallet type                         2268022\n",
       "Shipment Tracking Number                         0\n",
       "ShipmentDate                                     0\n",
       "ConsignorParcelCount                             0\n",
       "ConsignorWeight                              57705\n",
       "Freight                                          0\n",
       "Surcharge                                        0\n",
       "Dangerous goods surcharge                        0\n",
       "Delivery outside of core area surcharge          0\n",
       "Energy surcharge                                 0\n",
       "Infrastructure surcharge                         0\n",
       "Multi-parcel surcharge                           0\n",
       "Private delivery surcharge                       0\n",
       "Road toll                                        0\n",
       "Special goods surcharge                          0\n",
       "Price_Paid                                       0\n",
       "Base_Price                                       0\n",
       "FileName                                         0\n",
       "dtype: int64"
      ]
     },
     "execution_count": 3,
     "metadata": {},
     "output_type": "execute_result"
    }
   ],
   "source": [
    "# combine data\n",
    "combined_data = pd.concat([groupage_data, innight_data, pallet_data, road_freight_data])\n",
    "\n",
    "# check na\n",
    "combined_data.isna().sum()"
   ]
  },
  {
   "cell_type": "code",
   "execution_count": 10,
   "metadata": {},
   "outputs": [
    {
     "data": {
      "text/plain": [
       "(3234869, 25)"
      ]
     },
     "execution_count": 10,
     "metadata": {},
     "output_type": "execute_result"
    }
   ],
   "source": [
    "combined_data.shape"
   ]
  },
  {
   "cell_type": "code",
   "execution_count": 4,
   "metadata": {},
   "outputs": [
    {
     "name": "stdout",
     "output_type": "stream",
     "text": [
      "Number of duplicate rows: 1504\n",
      "Number of duplicate rows in STN: 205\n"
     ]
    }
   ],
   "source": [
    "# fill Parcel/Pallet type with \"PLL\" if it is na\n",
    "combined_data[\"Parcel/Pallet type\"] = combined_data[\"Parcel/Pallet type\"].fillna(\"PLL\")\n",
    "if \"FileName\" in combined_data.columns: \n",
    "    combined_data = combined_data.drop(columns=[\"FileName\"])\n",
    "\n",
    "# remove duplicate, keep first\n",
    "print(f\"Number of duplicate rows: {combined_data.duplicated().sum()}\")\n",
    "combined_data = combined_data.drop_duplicates(keep=\"first\")\n",
    "\n",
    "# now we can drop duplicates in Shipment Tracking Number\n",
    "print(f\"Number of duplicate rows in STN: {combined_data.duplicated(subset=['Shipment Tracking Number']).sum()}\")\n",
    "combined_data = combined_data.drop_duplicates(subset=[\"Shipment Tracking Number\"])"
   ]
  },
  {
   "cell_type": "code",
   "execution_count": 10,
   "metadata": {},
   "outputs": [
    {
     "data": {
      "text/plain": [
       "11354"
      ]
     },
     "execution_count": 10,
     "metadata": {},
     "output_type": "execute_result"
    }
   ],
   "source": [
    "# unique postcode\n",
    "combined_data[\"Consignee Location Nr\"].nunique()"
   ]
  },
  {
   "cell_type": "code",
   "execution_count": 16,
   "metadata": {},
   "outputs": [
    {
     "name": "stdout",
     "output_type": "stream",
     "text": [
      "<class 'pandas.core.frame.DataFrame'>\n",
      "RangeIndex: 4229 entries, 0 to 4228\n",
      "Data columns (total 6 columns):\n",
      " #   Column                Non-Null Count  Dtype  \n",
      "---  ------                --------------  -----  \n",
      " 0   Customer ID           4229 non-null   object \n",
      " 1   Main Customer         4229 non-null   object \n",
      " 2   Industry Level 1      4229 non-null   object \n",
      " 3   Industry Level 2      4229 non-null   object \n",
      " 4   System                4229 non-null   object \n",
      " 5   Allocated SAP Number  4202 non-null   float64\n",
      "dtypes: float64(1), object(5)\n",
      "memory usage: 198.4+ KB\n",
      "None\n"
     ]
    }
   ],
   "source": [
    "# load customer data\n",
    "customer_data = pd.read_excel(\"data-1/raw/master-data/ADS_DDS_RF_CustomerNumbers_MasterData.xlsx\")\n",
    "print(customer_data.info())"
   ]
  },
  {
   "cell_type": "code",
   "execution_count": 17,
   "metadata": {},
   "outputs": [
    {
     "data": {
      "text/plain": [
       "Index(['Customer ID', 'Main Customer', 'Industry Level 1', 'Industry Level 2',\n",
       "       'System', 'Allocated SAP Number'],\n",
       "      dtype='object')"
      ]
     },
     "execution_count": 17,
     "metadata": {},
     "output_type": "execute_result"
    }
   ],
   "source": [
    "customer_data.columns"
   ]
  },
  {
   "cell_type": "code",
   "execution_count": 9,
   "metadata": {},
   "outputs": [
    {
     "name": "stdout",
     "output_type": "stream",
     "text": [
      "(3233160, 24)\n",
      "(3222775, 24)\n",
      "10385\n"
     ]
    }
   ],
   "source": [
    "print(combined_data.shape)\n",
    "print(combined_data[combined_data[\"Customer_ID\"].isin(customer_data[\"Customer ID\"])].shape)\n",
    "print(\n",
    "    combined_data.shape[0] - combined_data[combined_data[\"Customer_ID\"].isin(customer_data[\"Customer ID\"])].shape[0] \n",
    ")"
   ]
  },
  {
   "cell_type": "code",
   "execution_count": 10,
   "metadata": {},
   "outputs": [
    {
     "data": {
      "text/plain": [
       "4024"
      ]
     },
     "execution_count": 10,
     "metadata": {},
     "output_type": "execute_result"
    }
   ],
   "source": [
    "combined_data[\"Customer_ID\"].nunique()"
   ]
  },
  {
   "cell_type": "code",
   "execution_count": 11,
   "metadata": {},
   "outputs": [
    {
     "data": {
      "text/plain": [
       "4229"
      ]
     },
     "execution_count": 11,
     "metadata": {},
     "output_type": "execute_result"
    }
   ],
   "source": [
    "customer_data[\"Customer ID\"].nunique()"
   ]
  },
  {
   "cell_type": "code",
   "execution_count": 12,
   "metadata": {},
   "outputs": [
    {
     "data": {
      "text/plain": [
       "Customer_ID                                    0\n",
       "ConsignorCountryCode                           0\n",
       "Consignor Location Nr                          0\n",
       "ConsigneeCountryCode                           0\n",
       "Consignee Location Nr                          0\n",
       "Freight calc_ status                           0\n",
       "Product                                        0\n",
       "Parcel/Pallet type                             0\n",
       "Shipment Tracking Number                       0\n",
       "ShipmentDate                                   0\n",
       "ConsignorParcelCount                           0\n",
       "ConsignorWeight                            57521\n",
       "Freight                                        0\n",
       "Surcharge                                      0\n",
       "Dangerous goods surcharge                      0\n",
       "Delivery outside of core area surcharge        0\n",
       "Energy surcharge                               0\n",
       "Infrastructure surcharge                       0\n",
       "Multi-parcel surcharge                         0\n",
       "Private delivery surcharge                     0\n",
       "Road toll                                      0\n",
       "Special goods surcharge                        0\n",
       "Price_Paid                                     0\n",
       "Base_Price                                     0\n",
       "dtype: int64"
      ]
     },
     "execution_count": 12,
     "metadata": {},
     "output_type": "execute_result"
    }
   ],
   "source": [
    "combined_data[combined_data[\"Customer_ID\"].isin(customer_data[\"Customer ID\"])].isna().sum()"
   ]
  },
  {
   "cell_type": "code",
   "execution_count": 13,
   "metadata": {},
   "outputs": [],
   "source": [
    "# drop na in Customer_ID\n",
    "combined_data = combined_data.dropna(subset=[\"Customer_ID\"])\n",
    "\n",
    "# merge combined data and customer data\n",
    "combined_data = pd.merge(combined_data, customer_data, left_on=\"Customer_ID\", right_on=\"Customer ID\", how=\"left\")\n",
    "\n",
    "combined_data = combined_data.drop(columns=[\"Customer ID\"])"
   ]
  },
  {
   "cell_type": "code",
   "execution_count": null,
   "metadata": {},
   "outputs": [],
   "source": [
    "# Load DK postcode data\n",
    "dk_postcode = pd.read_csv(\"data-1/raw/master-data/New_PostCodes_Data_DK/DK_Tableau.csv\", delimiter=\";\", decimal=\",\")"
   ]
  },
  {
   "cell_type": "code",
   "execution_count": null,
   "metadata": {},
   "outputs": [],
   "source": [
    "# merge combined data and dk postcode data\n",
    "combined_data = pd.merge(combined_data, dk_postcode, left_on=\"Consignee Location Nr\", right_on=\"Consignee Location Nr\", how=\"left\")"
   ]
  },
  {
   "cell_type": "code",
   "execution_count": 23,
   "metadata": {},
   "outputs": [
    {
     "data": {
      "text/plain": [
       "Index(['Customer_ID', 'ConsignorCountryCode', 'Consignor Location Nr',\n",
       "       'ConsigneeCountryCode_x', 'Consignee Location Nr',\n",
       "       'Freight calc_ status', 'Product', 'Parcel/Pallet type',\n",
       "       'Shipment Tracking Number', 'ShipmentDate', 'ConsignorParcelCount',\n",
       "       'ConsignorWeight', 'Freight', 'Surcharge', 'Dangerous goods surcharge',\n",
       "       'Delivery outside of core area surcharge', 'Energy surcharge',\n",
       "       'Infrastructure surcharge', 'Multi-parcel surcharge',\n",
       "       'Private delivery surcharge', 'Road toll', 'Special goods surcharge',\n",
       "       'Price_Paid', 'Base_Price', 'Main Customer', 'Industry Level 1',\n",
       "       'Industry Level 2', 'System', 'Allocated SAP Number',\n",
       "       'ConsigneeCountryCode_y', 'Latitude (generated)',\n",
       "       'Longitude (generated)'],\n",
       "      dtype='object')"
      ]
     },
     "execution_count": 23,
     "metadata": {},
     "output_type": "execute_result"
    }
   ],
   "source": [
    "combined_data = combined_data.drop(columns=[\"Consignee Location Nr_y\"], axis=1)\n",
    "combined_data = combined_data.drop(columns=[\"ConsigneeCountryCode_y\"], axis=1)\n",
    "combined_data = combined_data.rename(columns={\"Consignee Location Nr_x\": \"Consignee Location Nr\", \"ConsigneeCountryCode_x\": \"ConsigneeCountryCode\"})"
   ]
  },
  {
   "cell_type": "code",
   "execution_count": 24,
   "metadata": {},
   "outputs": [
    {
     "data": {
      "text/html": [
       "<div>\n",
       "<style scoped>\n",
       "    .dataframe tbody tr th:only-of-type {\n",
       "        vertical-align: middle;\n",
       "    }\n",
       "\n",
       "    .dataframe tbody tr th {\n",
       "        vertical-align: top;\n",
       "    }\n",
       "\n",
       "    .dataframe thead th {\n",
       "        text-align: right;\n",
       "    }\n",
       "</style>\n",
       "<table border=\"1\" class=\"dataframe\">\n",
       "  <thead>\n",
       "    <tr style=\"text-align: right;\">\n",
       "      <th></th>\n",
       "      <th>Customer_ID</th>\n",
       "      <th>ConsignorCountryCode</th>\n",
       "      <th>Consignor Location Nr</th>\n",
       "      <th>ConsigneeCountryCode_x</th>\n",
       "      <th>Consignee Location Nr</th>\n",
       "      <th>Freight calc_ status</th>\n",
       "      <th>Product</th>\n",
       "      <th>Parcel/Pallet type</th>\n",
       "      <th>Shipment Tracking Number</th>\n",
       "      <th>ShipmentDate</th>\n",
       "      <th>...</th>\n",
       "      <th>Price_Paid</th>\n",
       "      <th>Base_Price</th>\n",
       "      <th>Main Customer</th>\n",
       "      <th>Industry Level 1</th>\n",
       "      <th>Industry Level 2</th>\n",
       "      <th>System</th>\n",
       "      <th>Allocated SAP Number</th>\n",
       "      <th>ConsigneeCountryCode_y</th>\n",
       "      <th>Latitude (generated)</th>\n",
       "      <th>Longitude (generated)</th>\n",
       "    </tr>\n",
       "  </thead>\n",
       "  <tbody>\n",
       "    <tr>\n",
       "      <th>0</th>\n",
       "      <td>CGDAACEIA</td>\n",
       "      <td>DK</td>\n",
       "      <td>2690</td>\n",
       "      <td>NO</td>\n",
       "      <td>1254</td>\n",
       "      <td>10</td>\n",
       "      <td>G</td>\n",
       "      <td>PLL</td>\n",
       "      <td>5DO5Z8COOAZ4CDAB8</td>\n",
       "      <td>2017-08-02</td>\n",
       "      <td>...</td>\n",
       "      <td>218.896</td>\n",
       "      <td>596.8</td>\n",
       "      <td>Customer 389</td>\n",
       "      <td>Wholesaler</td>\n",
       "      <td>Wholesale/Construction</td>\n",
       "      <td>DDS</td>\n",
       "      <td>240182871.0</td>\n",
       "      <td>DK</td>\n",
       "      <td>55.6812</td>\n",
       "      <td>12.5903</td>\n",
       "    </tr>\n",
       "    <tr>\n",
       "      <th>1</th>\n",
       "      <td>CGDAACEIA</td>\n",
       "      <td>DK</td>\n",
       "      <td>2690</td>\n",
       "      <td>NO</td>\n",
       "      <td>1187</td>\n",
       "      <td>10</td>\n",
       "      <td>G</td>\n",
       "      <td>PLL</td>\n",
       "      <td>5DO5Z8COOAZ6Z6DBC</td>\n",
       "      <td>2017-08-08</td>\n",
       "      <td>...</td>\n",
       "      <td>218.896</td>\n",
       "      <td>596.8</td>\n",
       "      <td>Customer 389</td>\n",
       "      <td>Wholesaler</td>\n",
       "      <td>Wholesale/Construction</td>\n",
       "      <td>DDS</td>\n",
       "      <td>240182871.0</td>\n",
       "      <td>NaN</td>\n",
       "      <td>NaN</td>\n",
       "      <td>NaN</td>\n",
       "    </tr>\n",
       "    <tr>\n",
       "      <th>2</th>\n",
       "      <td>CGDAACEIA</td>\n",
       "      <td>DK</td>\n",
       "      <td>2690</td>\n",
       "      <td>NO</td>\n",
       "      <td>1184</td>\n",
       "      <td>10</td>\n",
       "      <td>G</td>\n",
       "      <td>PLL</td>\n",
       "      <td>5DO5Z8COOAZ6Z6ZZO</td>\n",
       "      <td>2017-08-08</td>\n",
       "      <td>...</td>\n",
       "      <td>218.896</td>\n",
       "      <td>596.8</td>\n",
       "      <td>Customer 389</td>\n",
       "      <td>Wholesaler</td>\n",
       "      <td>Wholesale/Construction</td>\n",
       "      <td>DDS</td>\n",
       "      <td>240182871.0</td>\n",
       "      <td>NaN</td>\n",
       "      <td>NaN</td>\n",
       "      <td>NaN</td>\n",
       "    </tr>\n",
       "  </tbody>\n",
       "</table>\n",
       "<p>3 rows × 32 columns</p>\n",
       "</div>"
      ],
      "text/plain": [
       "  Customer_ID ConsignorCountryCode  Consignor Location Nr  \\\n",
       "0   CGDAACEIA                   DK                   2690   \n",
       "1   CGDAACEIA                   DK                   2690   \n",
       "2   CGDAACEIA                   DK                   2690   \n",
       "\n",
       "  ConsigneeCountryCode_x  Consignee Location Nr  Freight calc_ status Product  \\\n",
       "0                     NO                   1254                    10       G   \n",
       "1                     NO                   1187                    10       G   \n",
       "2                     NO                   1184                    10       G   \n",
       "\n",
       "  Parcel/Pallet type Shipment Tracking Number ShipmentDate  ...  Price_Paid  \\\n",
       "0                PLL        5DO5Z8COOAZ4CDAB8   2017-08-02  ...     218.896   \n",
       "1                PLL        5DO5Z8COOAZ6Z6DBC   2017-08-08  ...     218.896   \n",
       "2                PLL        5DO5Z8COOAZ6Z6ZZO   2017-08-08  ...     218.896   \n",
       "\n",
       "   Base_Price  Main Customer  Industry Level 1        Industry Level 2  \\\n",
       "0       596.8   Customer 389        Wholesaler  Wholesale/Construction   \n",
       "1       596.8   Customer 389        Wholesaler  Wholesale/Construction   \n",
       "2       596.8   Customer 389        Wholesaler  Wholesale/Construction   \n",
       "\n",
       "   System  Allocated SAP Number  ConsigneeCountryCode_y  Latitude (generated)  \\\n",
       "0     DDS           240182871.0                      DK               55.6812   \n",
       "1     DDS           240182871.0                     NaN                   NaN   \n",
       "2     DDS           240182871.0                     NaN                   NaN   \n",
       "\n",
       "   Longitude (generated)  \n",
       "0                12.5903  \n",
       "1                    NaN  \n",
       "2                    NaN  \n",
       "\n",
       "[3 rows x 32 columns]"
      ]
     },
     "execution_count": 24,
     "metadata": {},
     "output_type": "execute_result"
    }
   ],
   "source": [
    "combined_data[:3]"
   ]
  },
  {
   "cell_type": "code",
   "execution_count": null,
   "metadata": {},
   "outputs": [],
   "source": [
    "combined_data = pd.read_parquet(\"data-1/processed/combined_data.parquet\")\n",
    "consignee_generated_coords = pd.read_csv(\"data-1/raw/master-data/consignee_generated_coords.csv\")\n",
    "consignor_generated_coords = pd.read_csv(\"data-1/raw/master-data/consignor_generated_coords.csv\")"
   ]
  },
  {
   "cell_type": "code",
   "execution_count": null,
   "metadata": {},
   "outputs": [],
   "source": [
    "missing_consignee_coords = consignee_generated_coords[consignee_generated_coords[\"Latitude (generated)\"].isna()]\n",
    "missing_consignor_coords = consignor_generated_coords[consignor_generated_coords[\"Latitude (generated)\"].isna()]\n",
    "\n",
    "missing_coords = pd.concat([missing_consignee_coords, missing_consignor_coords])\n",
    "\n",
    "missing_coords = missing_coords.drop_duplicates()\n"
   ]
  },
  {
   "cell_type": "code",
   "execution_count": null,
   "metadata": {},
   "outputs": [
    {
     "data": {
      "text/html": [
       "<div>\n",
       "<style scoped>\n",
       "    .dataframe tbody tr th:only-of-type {\n",
       "        vertical-align: middle;\n",
       "    }\n",
       "\n",
       "    .dataframe tbody tr th {\n",
       "        vertical-align: top;\n",
       "    }\n",
       "\n",
       "    .dataframe thead th {\n",
       "        text-align: right;\n",
       "    }\n",
       "</style>\n",
       "<table border=\"1\" class=\"dataframe\">\n",
       "  <thead>\n",
       "    <tr style=\"text-align: right;\">\n",
       "      <th></th>\n",
       "      <th>Consignee Country Code</th>\n",
       "      <th>Consignee Location Nr</th>\n",
       "      <th>Latitude (generated)</th>\n",
       "      <th>Longitude (generated)</th>\n",
       "    </tr>\n",
       "  </thead>\n",
       "  <tbody>\n",
       "    <tr>\n",
       "      <th>27</th>\n",
       "      <td>SE</td>\n",
       "      <td>89189</td>\n",
       "      <td>NaN</td>\n",
       "      <td>NaN</td>\n",
       "    </tr>\n",
       "    <tr>\n",
       "      <th>45</th>\n",
       "      <td>SE</td>\n",
       "      <td>89104</td>\n",
       "      <td>NaN</td>\n",
       "      <td>NaN</td>\n",
       "    </tr>\n",
       "    <tr>\n",
       "      <th>66</th>\n",
       "      <td>SE</td>\n",
       "      <td>88104</td>\n",
       "      <td>NaN</td>\n",
       "      <td>NaN</td>\n",
       "    </tr>\n",
       "    <tr>\n",
       "      <th>89</th>\n",
       "      <td>SE</td>\n",
       "      <td>87222</td>\n",
       "      <td>NaN</td>\n",
       "      <td>NaN</td>\n",
       "    </tr>\n",
       "    <tr>\n",
       "      <th>90</th>\n",
       "      <td>SE</td>\n",
       "      <td>87200</td>\n",
       "      <td>NaN</td>\n",
       "      <td>NaN</td>\n",
       "    </tr>\n",
       "    <tr>\n",
       "      <th>...</th>\n",
       "      <td>...</td>\n",
       "      <td>...</td>\n",
       "      <td>...</td>\n",
       "      <td>...</td>\n",
       "    </tr>\n",
       "    <tr>\n",
       "      <th>11782</th>\n",
       "      <td>DK</td>\n",
       "      <td>899</td>\n",
       "      <td>NaN</td>\n",
       "      <td>NaN</td>\n",
       "    </tr>\n",
       "    <tr>\n",
       "      <th>11783</th>\n",
       "      <td>DK</td>\n",
       "      <td>894</td>\n",
       "      <td>NaN</td>\n",
       "      <td>NaN</td>\n",
       "    </tr>\n",
       "    <tr>\n",
       "      <th>11784</th>\n",
       "      <td>DK</td>\n",
       "      <td>892</td>\n",
       "      <td>NaN</td>\n",
       "      <td>NaN</td>\n",
       "    </tr>\n",
       "    <tr>\n",
       "      <th>11785</th>\n",
       "      <td>DK</td>\n",
       "      <td>877</td>\n",
       "      <td>NaN</td>\n",
       "      <td>NaN</td>\n",
       "    </tr>\n",
       "    <tr>\n",
       "      <th>11786</th>\n",
       "      <td>DK</td>\n",
       "      <td>783</td>\n",
       "      <td>NaN</td>\n",
       "      <td>NaN</td>\n",
       "    </tr>\n",
       "  </tbody>\n",
       "</table>\n",
       "<p>813 rows × 4 columns</p>\n",
       "</div>"
      ],
      "text/plain": [
       "      Consignee Country Code  Consignee Location Nr  Latitude (generated)  \\\n",
       "27                        SE                  89189                   NaN   \n",
       "45                        SE                  89104                   NaN   \n",
       "66                        SE                  88104                   NaN   \n",
       "89                        SE                  87222                   NaN   \n",
       "90                        SE                  87200                   NaN   \n",
       "...                      ...                    ...                   ...   \n",
       "11782                     DK                    899                   NaN   \n",
       "11783                     DK                    894                   NaN   \n",
       "11784                     DK                    892                   NaN   \n",
       "11785                     DK                    877                   NaN   \n",
       "11786                     DK                    783                   NaN   \n",
       "\n",
       "       Longitude (generated)  \n",
       "27                       NaN  \n",
       "45                       NaN  \n",
       "66                       NaN  \n",
       "89                       NaN  \n",
       "90                       NaN  \n",
       "...                      ...  \n",
       "11782                    NaN  \n",
       "11783                    NaN  \n",
       "11784                    NaN  \n",
       "11785                    NaN  \n",
       "11786                    NaN  \n",
       "\n",
       "[813 rows x 4 columns]"
      ]
     },
     "execution_count": 10,
     "metadata": {},
     "output_type": "execute_result"
    }
   ],
   "source": [
    "missing_consignee_coords = missing_consignee_coords.to_dict(orient=\"records\")\n"
   ]
  },
  {
   "cell_type": "code",
   "execution_count": null,
   "metadata": {},
   "outputs": [],
   "source": [
    "dk_postcode = pd.read_excel(\"data-1/raw/master-data/New_PostCodes_Data_DK/DK_Geonames.xlsx\")"
   ]
  },
  {
   "cell_type": "code",
   "execution_count": null,
   "metadata": {},
   "outputs": [],
   "source": [
    "norway_postcode = pd.read_excel(\"data-1/raw/master-data/Postnummerregister-Excel.xlsx\")\n",
    "norway_postcode = norway_postcode.to_dict(orient=\"records\")\n",
    "\n",
    "denmark_postcode = pd.read_excel(\"data-1/raw/master-data/postcodes-file-to-download.xls\", header=1)\n",
    "denmark_postcode = denmark_postcode.to_dict(orient=\"records\")"
   ]
  },
  {
   "cell_type": "code",
   "execution_count": 2,
   "metadata": {},
   "outputs": [],
   "source": [
    "combined_data = pd.read_parquet(\"data-1/processed/combined_data.parquet\")\n",
    "consignee_generated_coords = pd.read_csv(\"data-1/raw/master-data/consignee_generated_coords.csv\")\n",
    "consignor_generated_coords = pd.read_csv(\"data-1/raw/master-data/consignor_generated_coords.csv\")"
   ]
  },
  {
   "cell_type": "code",
   "execution_count": 25,
   "metadata": {},
   "outputs": [],
   "source": [
    "consignor_generated_coords = consignor_generated_coords.rename(\n",
    "    columns={\n",
    "        \"Latitude (generated)\":\"ConsignorLatitude\",\n",
    "        \"Longitude (generated)\":\"ConsignorLongitude\"\n",
    "    }\n",
    ")\n",
    "consignee_generated_coords = consignee_generated_coords.rename(\n",
    "    columns={\n",
    "        \"Latitude (generated)\":\"ConsigneeLatitude\",\n",
    "        \"Longitude (generated)\":\"ConsigneeLongitude\"\n",
    "    }\n",
    ")\n",
    "consignor_generated_coords[\"Consignor Location Nr\"] = consignor_generated_coords[\"Consignor Location Nr\"].astype(str).str.zfill(4)\n",
    "consignee_generated_coords[\"Consignee Location Nr\"] = consignee_generated_coords[\"Consignee Location Nr\"].astype(str).str.zfill(4)"
   ]
  },
  {
   "cell_type": "code",
   "execution_count": 26,
   "metadata": {},
   "outputs": [],
   "source": [
    "combined_data = pd.merge(combined_data, consignor_generated_coords, left_on=[\"ConsignorCountryCode\", \"Consignor Location Nr\"], right_on=[\"Consignor Country Code\", \"Consignor Location Nr\"], how=\"left\")\n",
    "combined_data = pd.merge(combined_data, consignee_generated_coords, left_on=[\"ConsigneeCountryCode\", \"Consignee Location Nr\"], right_on=[\"Consignee Country Code\", \"Consignee Location Nr\"], how=\"left\")"
   ]
  },
  {
   "cell_type": "code",
   "execution_count": 27,
   "metadata": {},
   "outputs": [],
   "source": [
    "combined_data.to_csv(\"data-1/processed/combined_data_with_coords.csv\", index=False)"
   ]
  }
 ],
 "metadata": {
  "kernelspec": {
   "display_name": "ava-exam",
   "language": "python",
   "name": "ava-exam"
  },
  "language_info": {
   "codemirror_mode": {
    "name": "ipython",
    "version": 3
   },
   "file_extension": ".py",
   "mimetype": "text/x-python",
   "name": "python",
   "nbconvert_exporter": "python",
   "pygments_lexer": "ipython3",
   "version": "3.12.7"
  }
 },
 "nbformat": 4,
 "nbformat_minor": 2
}
